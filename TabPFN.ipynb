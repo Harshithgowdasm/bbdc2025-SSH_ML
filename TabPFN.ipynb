{
 "cells": [
  {
   "cell_type": "code",
   "execution_count": 1,
   "metadata": {},
   "outputs": [
    {
     "name": "stderr",
     "output_type": "stream",
     "text": [
      "2025-03-24 09:39:54.213012: E external/local_xla/xla/stream_executor/cuda/cuda_fft.cc:467] Unable to register cuFFT factory: Attempting to register factory for plugin cuFFT when one has already been registered\n",
      "WARNING: All log messages before absl::InitializeLog() is called are written to STDERR\n",
      "E0000 00:00:1742805594.273635  271893 cuda_dnn.cc:8579] Unable to register cuDNN factory: Attempting to register factory for plugin cuDNN when one has already been registered\n",
      "E0000 00:00:1742805594.292360  271893 cuda_blas.cc:1407] Unable to register cuBLAS factory: Attempting to register factory for plugin cuBLAS when one has already been registered\n",
      "W0000 00:00:1742805594.418424  271893 computation_placer.cc:177] computation placer already registered. Please check linkage and avoid linking the same target more than once.\n",
      "W0000 00:00:1742805594.418449  271893 computation_placer.cc:177] computation placer already registered. Please check linkage and avoid linking the same target more than once.\n",
      "W0000 00:00:1742805594.418451  271893 computation_placer.cc:177] computation placer already registered. Please check linkage and avoid linking the same target more than once.\n",
      "W0000 00:00:1742805594.418452  271893 computation_placer.cc:177] computation placer already registered. Please check linkage and avoid linking the same target more than once.\n",
      "2025-03-24 09:39:54.432627: I tensorflow/core/platform/cpu_feature_guard.cc:210] This TensorFlow binary is optimized to use available CPU instructions in performance-critical operations.\n",
      "To enable the following instructions: AVX2 FMA, in other operations, rebuild TensorFlow with the appropriate compiler flags.\n"
     ]
    }
   ],
   "source": [
    "import pandas as pd\n",
    "from sampling import *\n",
    "from sklearn.preprocessing import StandardScaler\n",
    "import preprocess_data"
   ]
  },
  {
   "cell_type": "code",
   "execution_count": 2,
   "metadata": {},
   "outputs": [
    {
     "name": "stdout",
     "output_type": "stream",
     "text": [
      "df_train_fea shape: (11061, 25)\n",
      "df_val_fea shape: (11060, 25)\n",
      "df_test_fea shape: (11060, 24)\n"
     ]
    }
   ],
   "source": [
    "df_fea, df_val_fea, df_test_fea = preprocess_data.preprocess_and_extract_features()\n"
   ]
  },
  {
   "cell_type": "code",
   "execution_count": null,
   "metadata": {},
   "outputs": [
    {
     "name": "stdout",
     "output_type": "stream",
     "text": [
      "Training Data:      AccountID  NumTransactions      AvgAmount   MaxAmount      TotalIn  \\\n",
      "0  C0001143040              562  146658.532989  3585064.01  35124031.74   \n",
      "1  C0001332727              178  128888.997753   903276.53  13396604.25   \n",
      "2  C0002641069               56  146342.356786  2571512.49   4547603.60   \n",
      "3  C0002967890              103  117303.432330  3554689.54   3016367.57   \n",
      "4  C0003513711               50  144333.040800  1563406.66   4462829.33   \n",
      "\n",
      "       MaxIn     TotalOut  MaxCashOut  MaxDebit  MaxTransfer  ...  \\\n",
      "0  424498.32  47298063.80   284531.00   8893.26   3585064.01  ...   \n",
      "1  341238.53   9545637.35   258056.33      0.00    903276.53  ...   \n",
      "2  293992.40   3647568.38   204095.40   3594.16   2571512.49  ...   \n",
      "3  392633.82   9065885.96   247445.60  23100.20   3554689.54  ...   \n",
      "4  264727.14   2753822.71   142728.98   3080.34   1563406.66  ...   \n",
      "\n",
      "   BalanceDeviation_mean  TransactionAmountDeviation_max  \\\n",
      "0          -2.038304e-10                    3.438405e+06   \n",
      "1          -2.262905e-10                    7.743875e+05   \n",
      "2           1.372038e-10                    2.425170e+06   \n",
      "3          -1.537134e-10                    3.437386e+06   \n",
      "4           8.381903e-11                    1.419074e+06   \n",
      "\n",
      "   TransactionFrequencyPerHour_max  TransactionBurstiness_mean  \\\n",
      "0                               12                  211.339858   \n",
      "1                                6                   40.780899   \n",
      "2                                2                    1.946429   \n",
      "3                                4                   17.271845   \n",
      "4                                2                    4.040000   \n",
      "\n",
      "   IsUnusualTransactionType_sum  IsExternalAccount_max  \\\n",
      "0                             4                      1   \n",
      "1                             0                      1   \n",
      "2                             1                      1   \n",
      "3                             0                      1   \n",
      "4                             3                      1   \n",
      "\n",
      "   ExternalAccountFrequency_mean  isUnauthorizedOverdraft_sum  \\\n",
      "0                    1252.549451                            0   \n",
      "1                      14.119048                            0   \n",
      "2                    4529.437500                            0   \n",
      "3                    2224.230769                            0   \n",
      "4                     701.142857                            0   \n",
      "\n",
      "   RollingTransactionCount_mean  Fraudster  \n",
      "0                      9.919929          0  \n",
      "1                      9.747191          0  \n",
      "2                      9.196429          1  \n",
      "3                      9.563107          0  \n",
      "4                      9.100000          0  \n",
      "\n",
      "[5 rows x 25 columns]\n",
      "Validation Data:      AccountID  NumTransactions      AvgAmount   MaxAmount     TotalIn  \\\n",
      "0  C0000718635                9  176328.015556  1058446.82    54256.00   \n",
      "1  C0000998488               70  141962.805857  1248492.31  3867780.78   \n",
      "2  C0002560075               59  106134.091017   371757.14  2983503.73   \n",
      "3  C0002950071                8   29691.007500    89404.72    89404.72   \n",
      "4  C0003399346               57   54006.049123   333065.87  1541178.32   \n",
      "\n",
      "       MaxIn    TotalOut  MaxCashOut  MaxDebit  MaxTransfer  ...  \\\n",
      "0   42573.79  1532696.14   145379.66      0.00   1058446.82  ...   \n",
      "1  227336.86  6069615.63   207700.63   5835.77   1248492.31  ...   \n",
      "2  371757.14  3278407.64   272880.09      0.00    210236.70  ...   \n",
      "3   89404.72   148123.34    73175.44   5848.06         0.00  ...   \n",
      "4  333065.87  1537166.48   213106.08  11822.80         0.00  ...   \n",
      "\n",
      "   BalanceDeviation_mean  TransactionAmountDeviation_max  \\\n",
      "0          -1.034803e-10                    8.821188e+05   \n",
      "1           2.893752e-10                    1.106530e+06   \n",
      "2           3.157026e-10                    2.656230e+05   \n",
      "3           1.164153e-10                    5.971371e+04   \n",
      "4          -3.053517e-11                    8.182019e+05   \n",
      "\n",
      "   TransactionFrequencyPerHour_max  TransactionBurstiness_mean  \\\n",
      "0                                1                    0.000000   \n",
      "1                                4                    8.185714   \n",
      "2                                3                    7.915254   \n",
      "3                                1                    0.000000   \n",
      "4                                3                    7.721311   \n",
      "\n",
      "   IsUnusualTransactionType_sum  IsExternalAccount_max  \\\n",
      "0                             0                      1   \n",
      "1                             2                      1   \n",
      "2                             1                      1   \n",
      "3                             0                      1   \n",
      "4                             4                      1   \n",
      "\n",
      "   ExternalAccountFrequency_mean  isUnauthorizedOverdraft_sum  \\\n",
      "0                      12.666667                            0   \n",
      "1                     538.777778                            0   \n",
      "2                      13.111111                            0   \n",
      "3                    1879.800000                            0   \n",
      "4                     288.810811                            4   \n",
      "\n",
      "   RollingTransactionCount_mean  Fraudster  \n",
      "0                      5.000000          0  \n",
      "1                      9.357143          0  \n",
      "2                      9.237288          0  \n",
      "3                      4.500000          0  \n",
      "4                      9.262295          0  \n",
      "\n",
      "[5 rows x 25 columns]\n",
      "Test Data:      AccountID  NumTransactions      AvgAmount   MaxAmount      TotalIn  \\\n",
      "0  C0002376176              295  127436.670915  1688060.03  20498582.81   \n",
      "1  C0002438071                5  170637.230000   352141.76    247309.80   \n",
      "2  C0003158357               76  104560.943553   299913.08   5426251.44   \n",
      "3  C0004699568              153  174203.450327  3714414.22   6843111.38   \n",
      "4  C0006340080              152  114397.459408  1684757.89   6263641.28   \n",
      "\n",
      "       MaxIn     TotalOut  MaxCashOut  MaxDebit  MaxTransfer  ...  \\\n",
      "0  404544.42  17095235.11   322161.62   7895.28   1688060.03  ...   \n",
      "1  160883.70    605876.35   149658.20      0.00    352141.76  ...   \n",
      "2  299913.08   2520380.27   257385.90   3655.63         0.00  ...   \n",
      "3  311728.03  19810016.52   261887.00      0.00   3714414.22  ...   \n",
      "4  292985.65  11124772.55   256916.44   8389.78   1684757.89  ...   \n",
      "\n",
      "   TimeSinceLastTransaction_mean  BalanceDeviation_mean  \\\n",
      "0                     144.203390           1.274276e-10   \n",
      "1                    3180.000000           5.587935e-10   \n",
      "2                     568.000000          -1.930043e-10   \n",
      "3                     223.026316           9.130613e-11   \n",
      "4                     234.039735           1.286696e-10   \n",
      "\n",
      "   TransactionAmountDeviation_max  TransactionFrequencyPerHour_max  \\\n",
      "0                    3.138662e+06                                8   \n",
      "1                    1.815045e+05                                1   \n",
      "2                    1.953521e+05                                4   \n",
      "3                    3.540211e+06                                6   \n",
      "4                    1.570360e+06                                5   \n",
      "\n",
      "   TransactionBurstiness_mean  IsUnusualTransactionType_sum  \\\n",
      "0                   87.368243                            15   \n",
      "1                    0.000000                             0   \n",
      "2                    8.881579                             1   \n",
      "3                   34.189542                             0   \n",
      "4                   34.157895                             8   \n",
      "\n",
      "   IsExternalAccount_max  ExternalAccountFrequency_mean  \\\n",
      "0                      1                     110.663158   \n",
      "1                      1                      19.000000   \n",
      "2                      1                     266.888889   \n",
      "3                      1                      14.937500   \n",
      "4                      1                      90.677966   \n",
      "\n",
      "   isUnauthorizedOverdraft_sum  RollingTransactionCount_mean  \n",
      "0                            1                      9.847973  \n",
      "1                            0                      3.000000  \n",
      "2                            0                      9.407895  \n",
      "3                            0                      9.705882  \n",
      "4                            0                      9.703947  \n",
      "\n",
      "[5 rows x 24 columns]\n"
     ]
    },
    {
     "ename": "",
     "evalue": "",
     "output_type": "error",
     "traceback": [
      "\u001b[1;31mThe Kernel crashed while executing code in the current cell or a previous cell. \n",
      "\u001b[1;31mPlease review the code in the cell(s) to identify a possible cause of the failure. \n",
      "\u001b[1;31mClick <a href='https://aka.ms/vscodeJupyterKernelCrash'>here</a> for more info. \n",
      "\u001b[1;31mView Jupyter <a href='command:jupyter.viewOutput'>log</a> for further details."
     ]
    }
   ],
   "source": [
    "print(\"Training Data:\", df_fea.head())\n",
    "print(\"Validation Data:\", df_val_fea.head())\n",
    "print(\"Test Data:\", df_test_fea.head())"
   ]
  },
  {
   "cell_type": "code",
   "execution_count": null,
   "metadata": {},
   "outputs": [
    {
     "name": "stderr",
     "output_type": "stream",
     "text": [
      "/home/zoro/anaconda3/envs/bbdc/lib/python3.12/site-packages/torch/cuda/__init__.py:129: UserWarning: CUDA initialization: CUDA unknown error - this may be due to an incorrectly set up environment, e.g. changing env variable CUDA_VISIBLE_DEVICES after program start. Setting the available devices to be zero. (Triggered internally at ../c10/cuda/CUDAFunctions.cpp:108.)\n",
      "  return torch._C._cuda_getDeviceCount() > 0\n",
      "/home/zoro/anaconda3/envs/bbdc/lib/python3.12/site-packages/tabpfn/classifier.py:420: UserWarning: Number of samples 11061 is greater than the maximum Number of samples 10000 supported by the model. You may see degraded performance.\n",
      "  X, y, feature_names_in, n_features_in = validate_Xy_fit(\n"
     ]
    }
   ],
   "source": [
    "from tabpfn import TabPFNClassifier\n",
    "from sklearn.datasets import load_iris\n",
    "from sklearn.model_selection import train_test_split\n",
    "from sklearn.metrics import accuracy_score\n",
    "\n",
    "# Load the dataset\n",
    "X = df_fea.drop(columns=['Fraudster'])\n",
    "y = df_fea['Fraudster']\n",
    "X_val = df_val_fea.drop(columns=['Fraudster'])\n",
    "y_val = df_val_fea['Fraudster']\n",
    "\n",
    "# X_test = df_test_fea.drop(columns=['Fraudster'])\n",
    "# y_test = df_test_fea['Fraudster']\n",
    "\n",
    "# Initialize and train classifier\n",
    "classifier = TabPFNClassifier(ignore_pretraining_limits=True)\n",
    "classifier.fit(X, y)\n",
    "\n",
    "# Evaluate\n",
    "y_pred = classifier.predict(X_val)\n",
    "print('Test Accuracy:', accuracy_score(y_val, y_pred))\n"
   ]
  },
  {
   "cell_type": "code",
   "execution_count": null,
   "metadata": {},
   "outputs": [],
   "source": []
  }
 ],
 "metadata": {
  "kernelspec": {
   "display_name": "bbdc",
   "language": "python",
   "name": "python3"
  },
  "language_info": {
   "codemirror_mode": {
    "name": "ipython",
    "version": 3
   },
   "file_extension": ".py",
   "mimetype": "text/x-python",
   "name": "python",
   "nbconvert_exporter": "python",
   "pygments_lexer": "ipython3",
   "version": "3.12.0"
  }
 },
 "nbformat": 4,
 "nbformat_minor": 2
}
